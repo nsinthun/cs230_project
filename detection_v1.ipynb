{
 "cells": [
  {
   "cell_type": "markdown",
   "metadata": {},
   "source": [
    "# Detection Version 1"
   ]
  },
  {
   "cell_type": "markdown",
   "metadata": {},
   "source": [
    "The detection component aims to find relevant apparel products in a given picture. The process consist of 2 stages:\n",
    "\n",
    "1. Find relevant bounding boxes\n",
    "2. For each bounding box identified, classify into 1 of the product classes"
   ]
  },
  {
   "cell_type": "markdown",
   "metadata": {},
   "source": [
    "ABOUT: Version 1\n",
    "\n",
    "Version 1 aims to address the question of given a bounding box, is it posisble to detect the correct class using existing networks and what are the trade-offs of each network (e.g. ResNet50, VGG16, VGG19 etc...)\n",
    "\n",
    "Existing literature includes:\n",
    "- https://github.com/jcjohnson/cnn-benchmarks"
   ]
  },
  {
   "cell_type": "markdown",
   "metadata": {},
   "source": [
    "# Results"
   ]
  },
  {
   "cell_type": "markdown",
   "metadata": {},
   "source": [
    "mens-blazer-jackets\n",
    "- Error: 0.9490131578947368,      Max label: 'suit'\n",
    "\n",
    "womens-totes-handbags\n",
    "- Error: 0.7478632478632479,,     Max label: 'mailbag'\n",
    "- Error: 0.08547008547008547,     Max label: 'shopping_basket'\n",
    "\n",
    "\n",
    "mens-longsleeve-shirts\n",
    "- Error: 0.5192307692307693,      Max label: 'sweatshirt'\n",
    "- Error: 0.17307692307692307,     Max label: 'labcoat'\n",
    "- Error: 0.09615384615384616,     Max label: 'cardigan'\n",
    "- Error: 0.09615384615384616,     Max label: 'pajama'\n"
   ]
  },
  {
   "cell_type": "markdown",
   "metadata": {},
   "source": [
    "# Load libraries"
   ]
  },
  {
   "cell_type": "code",
   "execution_count": 1,
   "metadata": {},
   "outputs": [
    {
     "name": "stderr",
     "output_type": "stream",
     "text": [
      "/home/shared/anaconda3/lib/python3.6/site-packages/h5py/__init__.py:36: FutureWarning: Conversion of the second argument of issubdtype from `float` to `np.floating` is deprecated. In future, it will be treated as `np.float64 == np.dtype(float).type`.\n",
      "  from ._conv import register_converters as _register_converters\n",
      "Using TensorFlow backend.\n"
     ]
    }
   ],
   "source": [
    "from keras.applications.vgg16 import VGG16\n",
    "from keras.preprocessing import image\n",
    "from keras.applications.vgg16 import preprocess_input, decode_predictions\n",
    "import numpy as np\n",
    "import os\n",
    "\n",
    "#Load model\n",
    "model = VGG16(weights='imagenet', include_top=True)"
   ]
  },
  {
   "cell_type": "markdown",
   "metadata": {},
   "source": [
    "# Check labels"
   ]
  },
  {
   "cell_type": "code",
   "execution_count": 3,
   "metadata": {},
   "outputs": [
    {
     "name": "stdout",
     "output_type": "stream",
     "text": [
      "womens-formal-dresses\n"
     ]
    }
   ],
   "source": [
    "#Define root_directory\n",
    "root_dir = 'data'\n",
    "\n",
    "#Get the list of directories\n",
    "sub_dir= os.listdir(root_dir)\n",
    "sub_dir = [i for i in sub_dir if '.ipynb' not in i] #Filter note any temp files\n",
    "\n",
    "#Loop through each subdirectory\n",
    "sub_dir = sub_dir[4]\n",
    "print(sub_dir)\n",
    "\n",
    "#Get files in each directories\n",
    "sub_dir_path = root_dir+'/'+sub_dir+'/'\n",
    "sub_dir_files = os.listdir(sub_dir_path)\n",
    "sub_dir_files = [i for i in sub_dir_files if '.DS' not in i]\n",
    "\n",
    "#Determine number of x inputs\n",
    "m = len(sub_dir_files)\n",
    "\n",
    "#Initialze x_array\n",
    "x_array = np.zeros((m,224,224,3))\n",
    "\n",
    "#Loop through each file and make a prediction\n",
    "for i in range(m):\n",
    "    \n",
    "    #Define image path\n",
    "    img_path = sub_dir_path + sub_dir_files[i]\n",
    "    #label = f.split('-')[2]\n",
    "\n",
    "    #Load the image\n",
    "    img = image.load_img(img_path, target_size=(224, 224))\n",
    "\n",
    "    #Preprocess input\n",
    "    x = preprocess_input(np.expand_dims(image.img_to_array(img), axis=0))\n",
    "    x_array[i,:,:,:] = x\n"
   ]
  },
  {
   "cell_type": "code",
   "execution_count": 4,
   "metadata": {},
   "outputs": [],
   "source": [
    "preds = model.predict(x_array)"
   ]
  },
  {
   "cell_type": "code",
   "execution_count": 5,
   "metadata": {},
   "outputs": [
    {
     "name": "stdout",
     "output_type": "stream",
     "text": [
      "Error for gown: 0.875\n",
      "Class: womens-formal-dresses\n"
     ]
    }
   ],
   "source": [
    "#Print Error\n",
    "y_hat_array = []\n",
    "for i in decode_predictions(preds, top=1):\n",
    "    y_hat_array.append(i[0][1])\n",
    "\n",
    "#Get the label that occurs the most \n",
    "max_label = max(y_hat_array,key=y_hat_array.count)\n",
    "\n",
    "#Print out error\n",
    "error = 1.0*y_hat_array.count(max_label) / m\n",
    "print('Error for '+max_label+': ' + str(error))\n",
    "print('Class: '+ sub_dir)"
   ]
  },
  {
   "cell_type": "code",
   "execution_count": 9,
   "metadata": {},
   "outputs": [
    {
     "name": "stdout",
     "output_type": "stream",
     "text": [
      "0.013888888888888888\n",
      "{'velvet', 'miniskirt', 'overskirt', 'abaya', 'sarong', 'jean', 'gown'}\n"
     ]
    }
   ],
   "source": [
    "error = 1.0*y_hat_array.count('sarong') / m\n",
    "print(error)\n",
    "print(set(y_hat_array))"
   ]
  }
 ],
 "metadata": {
  "kernelspec": {
   "display_name": "Python 3",
   "language": "python",
   "name": "python3"
  },
  "language_info": {
   "codemirror_mode": {
    "name": "ipython",
    "version": 3
   },
   "file_extension": ".py",
   "mimetype": "text/x-python",
   "name": "python",
   "nbconvert_exporter": "python",
   "pygments_lexer": "ipython3",
   "version": "3.6.4"
  }
 },
 "nbformat": 4,
 "nbformat_minor": 2
}
